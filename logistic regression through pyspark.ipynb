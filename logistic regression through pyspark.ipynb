{
 "cells": [
  {
   "cell_type": "code",
   "execution_count": 0,
   "metadata": {
    "application/vnd.databricks.v1+cell": {
     "cellMetadata": {
      "byteLimit": 2048000,
      "rowLimit": 10000
     },
     "inputWidgets": {},
     "nuid": "23922033-3668-4db5-b71f-b1949abaeab0",
     "showTitle": false,
     "title": ""
    }
   },
   "outputs": [
    {
     "output_type": "stream",
     "name": "stdout",
     "output_type": "stream",
     "text": [
      "Python interpreter will be restarted.\nCollecting pyspark\n  Downloading pyspark-3.5.1.tar.gz (317.0 MB)\nCollecting py4j==0.10.9.7\n  Downloading py4j-0.10.9.7-py2.py3-none-any.whl (200 kB)\nBuilding wheels for collected packages: pyspark\n  Building wheel for pyspark (setup.py): started\n  Building wheel for pyspark (setup.py): finished with status 'done'\n  Created wheel for pyspark: filename=pyspark-3.5.1-py2.py3-none-any.whl size=317488511 sha256=bcb2d8e9cdadd1daee9e68e723a96a7221b4559cc55cb4f2b4fbc46dd17f0595\n  Stored in directory: /root/.cache/pip/wheels/92/09/11/aa01d01a7f005fda8a66ad71d2be7f8aa341bddafb27eee3c7\nSuccessfully built pyspark\nInstalling collected packages: py4j, pyspark\nSuccessfully installed py4j-0.10.9.7 pyspark-3.5.1\nPython interpreter will be restarted.\n"
     ]
    }
   ],
   "source": [
    "pip install pyspark"
   ]
  },
  {
   "cell_type": "code",
   "execution_count": 0,
   "metadata": {
    "application/vnd.databricks.v1+cell": {
     "cellMetadata": {
      "byteLimit": 2048000,
      "rowLimit": 10000
     },
     "inputWidgets": {},
     "nuid": "56eac992-3b90-49f2-842e-a9a58fd49f6a",
     "showTitle": false,
     "title": ""
    }
   },
   "outputs": [],
   "source": [
    "from pyspark.sql import SparkSession"
   ]
  },
  {
   "cell_type": "code",
   "execution_count": 0,
   "metadata": {
    "application/vnd.databricks.v1+cell": {
     "cellMetadata": {
      "byteLimit": 2048000,
      "rowLimit": 10000
     },
     "inputWidgets": {},
     "nuid": "c36285f0-edb0-4f70-9d0e-d4d6619f9499",
     "showTitle": false,
     "title": ""
    }
   },
   "outputs": [],
   "source": [
    "spark=SparkSession.builder.appName('logistic-regression').getOrCreate()"
   ]
  },
  {
   "cell_type": "code",
   "execution_count": 0,
   "metadata": {
    "application/vnd.databricks.v1+cell": {
     "cellMetadata": {
      "byteLimit": 2048000,
      "rowLimit": 10000
     },
     "inputWidgets": {},
     "nuid": "14ca67b2-32ab-41d7-84ea-6d151fd87847",
     "showTitle": false,
     "title": ""
    }
   },
   "outputs": [
    {
     "output_type": "display_data",
     "data": {
      "text/html": [
       "\n",
       "            <div>\n",
       "                <p><b>SparkSession - hive</b></p>\n",
       "                \n",
       "        <div>\n",
       "            <p><b>SparkContext</b></p>\n",
       "\n",
       "            <p><a href=\"/?o=562806057408795#setting/sparkui/0501-211106-r04fbcaj/driver-1567813686799227035\">Spark UI</a></p>\n",
       "\n",
       "            <dl>\n",
       "              <dt>Version</dt>\n",
       "                <dd><code>v3.3.0</code></dd>\n",
       "              <dt>Master</dt>\n",
       "                <dd><code>local[8]</code></dd>\n",
       "              <dt>AppName</dt>\n",
       "                <dd><code>Databricks Shell</code></dd>\n",
       "            </dl>\n",
       "        </div>\n",
       "        \n",
       "            </div>\n",
       "        "
      ]
     },
     "metadata": {
      "application/vnd.databricks.v1+output": {
       "addedWidgets": {},
       "arguments": {},
       "data": "\n            <div>\n                <p><b>SparkSession - hive</b></p>\n                \n        <div>\n            <p><b>SparkContext</b></p>\n\n            <p><a href=\"/?o=562806057408795#setting/sparkui/0501-211106-r04fbcaj/driver-1567813686799227035\">Spark UI</a></p>\n\n            <dl>\n              <dt>Version</dt>\n                <dd><code>v3.3.0</code></dd>\n              <dt>Master</dt>\n                <dd><code>local[8]</code></dd>\n              <dt>AppName</dt>\n                <dd><code>Databricks Shell</code></dd>\n            </dl>\n        </div>\n        \n            </div>\n        ",
       "datasetInfos": [],
       "metadata": {},
       "removedWidgets": [],
       "textData": null,
       "type": "htmlSandbox"
      }
     },
     "output_type": "display_data"
    }
   ],
   "source": [
    "spark"
   ]
  },
  {
   "cell_type": "code",
   "execution_count": 0,
   "metadata": {
    "application/vnd.databricks.v1+cell": {
     "cellMetadata": {
      "byteLimit": 2048000,
      "rowLimit": 10000
     },
     "inputWidgets": {},
     "nuid": "a572432d-d49d-43ae-b422-6aba7012e850",
     "showTitle": false,
     "title": ""
    }
   },
   "outputs": [],
   "source": [
    "df=spark.read.csv( \"/FileStore/tables/Churn_Modelling-2.csv\",header=True,inferSchema=True)"
   ]
  },
  {
   "cell_type": "code",
   "execution_count": 0,
   "metadata": {
    "application/vnd.databricks.v1+cell": {
     "cellMetadata": {
      "byteLimit": 2048000,
      "rowLimit": 10000
     },
     "inputWidgets": {},
     "nuid": "17a09992-35cc-446a-a015-7cce19c23a1f",
     "showTitle": false,
     "title": ""
    }
   },
   "outputs": [
    {
     "output_type": "stream",
     "name": "stdout",
     "output_type": "stream",
     "text": [
      "+---------+----------+---------+-----------+---------+------+---+------+---------+-------------+---------+--------------+---------------+------+\n|RowNumber|CustomerId|  Surname|CreditScore|Geography|Gender|Age|Tenure|  Balance|NumOfProducts|HasCrCard|IsActiveMember|EstimatedSalary|Exited|\n+---------+----------+---------+-----------+---------+------+---+------+---------+-------------+---------+--------------+---------------+------+\n|        1|  15634602| Hargrave|        619|   France|Female| 42|     2|      0.0|            1|        1|             1|      101348.88|     1|\n|        2|  15647311|     Hill|        608|    Spain|Female| 41|     1| 83807.86|            1|        0|             1|      112542.58|     0|\n|        3|  15619304|     Onio|        502|   France|Female| 42|     8| 159660.8|            3|        1|             0|      113931.57|     1|\n|        4|  15701354|     Boni|        699|   France|Female| 39|     1|      0.0|            2|        0|             0|       93826.63|     0|\n|        5|  15737888| Mitchell|        850|    Spain|Female| 43|     2|125510.82|            1|        1|             1|        79084.1|     0|\n|        6|  15574012|      Chu|        645|    Spain|  Male| 44|     8|113755.78|            2|        1|             0|      149756.71|     1|\n|        7|  15592531| Bartlett|        822|   France|  Male| 50|     7|      0.0|            2|        1|             1|        10062.8|     0|\n|        8|  15656148|   Obinna|        376|  Germany|Female| 29|     4|115046.74|            4|        1|             0|      119346.88|     1|\n|        9|  15792365|       He|        501|   France|  Male| 44|     4|142051.07|            2|        0|             1|        74940.5|     0|\n|       10|  15592389|       H?|        684|   France|  Male| 27|     2|134603.88|            1|        1|             1|       71725.73|     0|\n|       11|  15767821|   Bearce|        528|   France|  Male| 31|     6|102016.72|            2|        0|             0|       80181.12|     0|\n|       12|  15737173|  Andrews|        497|    Spain|  Male| 24|     3|      0.0|            2|        1|             0|       76390.01|     0|\n|       13|  15632264|      Kay|        476|   France|Female| 34|    10|      0.0|            2|        1|             0|       26260.98|     0|\n|       14|  15691483|     Chin|        549|   France|Female| 25|     5|      0.0|            2|        0|             0|      190857.79|     0|\n|       15|  15600882|    Scott|        635|    Spain|Female| 35|     7|      0.0|            2|        1|             1|       65951.65|     0|\n|       16|  15643966|  Goforth|        616|  Germany|  Male| 45|     3|143129.41|            2|        0|             1|       64327.26|     0|\n|       17|  15737452|    Romeo|        653|  Germany|  Male| 58|     1|132602.88|            1|        1|             0|        5097.67|     1|\n|       18|  15788218|Henderson|        549|    Spain|Female| 24|     9|      0.0|            2|        1|             1|       14406.41|     0|\n|       19|  15661507|  Muldrow|        587|    Spain|  Male| 45|     6|      0.0|            1|        0|             0|      158684.81|     0|\n|       20|  15568982|      Hao|        726|   France|Female| 24|     6|      0.0|            2|        1|             1|       54724.03|     0|\n+---------+----------+---------+-----------+---------+------+---+------+---------+-------------+---------+--------------+---------------+------+\nonly showing top 20 rows\n\n"
     ]
    }
   ],
   "source": [
    "df.show()"
   ]
  },
  {
   "cell_type": "code",
   "execution_count": 0,
   "metadata": {
    "application/vnd.databricks.v1+cell": {
     "cellMetadata": {
      "byteLimit": 2048000,
      "rowLimit": 10000
     },
     "inputWidgets": {},
     "nuid": "ffe80b18-595e-41b4-8dcb-e859c621b66d",
     "showTitle": false,
     "title": ""
    }
   },
   "outputs": [],
   "source": [
    "df=df.drop('CustomerId','Surname')"
   ]
  },
  {
   "cell_type": "code",
   "execution_count": 0,
   "metadata": {
    "application/vnd.databricks.v1+cell": {
     "cellMetadata": {
      "byteLimit": 2048000,
      "rowLimit": 10000
     },
     "inputWidgets": {},
     "nuid": "bfa03380-868a-46ef-885c-3382cdc9c7ef",
     "showTitle": false,
     "title": ""
    }
   },
   "outputs": [
    {
     "output_type": "stream",
     "name": "stdout",
     "output_type": "stream",
     "text": [
      "+---------+-----------+---------+------+---+------+---------+-------------+---------+--------------+---------------+------+\n|RowNumber|CreditScore|Geography|Gender|Age|Tenure|  Balance|NumOfProducts|HasCrCard|IsActiveMember|EstimatedSalary|Exited|\n+---------+-----------+---------+------+---+------+---------+-------------+---------+--------------+---------------+------+\n|        1|        619|   France|Female| 42|     2|      0.0|            1|        1|             1|      101348.88|     1|\n|        2|        608|    Spain|Female| 41|     1| 83807.86|            1|        0|             1|      112542.58|     0|\n|        3|        502|   France|Female| 42|     8| 159660.8|            3|        1|             0|      113931.57|     1|\n|        4|        699|   France|Female| 39|     1|      0.0|            2|        0|             0|       93826.63|     0|\n|        5|        850|    Spain|Female| 43|     2|125510.82|            1|        1|             1|        79084.1|     0|\n|        6|        645|    Spain|  Male| 44|     8|113755.78|            2|        1|             0|      149756.71|     1|\n|        7|        822|   France|  Male| 50|     7|      0.0|            2|        1|             1|        10062.8|     0|\n|        8|        376|  Germany|Female| 29|     4|115046.74|            4|        1|             0|      119346.88|     1|\n|        9|        501|   France|  Male| 44|     4|142051.07|            2|        0|             1|        74940.5|     0|\n|       10|        684|   France|  Male| 27|     2|134603.88|            1|        1|             1|       71725.73|     0|\n|       11|        528|   France|  Male| 31|     6|102016.72|            2|        0|             0|       80181.12|     0|\n|       12|        497|    Spain|  Male| 24|     3|      0.0|            2|        1|             0|       76390.01|     0|\n|       13|        476|   France|Female| 34|    10|      0.0|            2|        1|             0|       26260.98|     0|\n|       14|        549|   France|Female| 25|     5|      0.0|            2|        0|             0|      190857.79|     0|\n|       15|        635|    Spain|Female| 35|     7|      0.0|            2|        1|             1|       65951.65|     0|\n|       16|        616|  Germany|  Male| 45|     3|143129.41|            2|        0|             1|       64327.26|     0|\n|       17|        653|  Germany|  Male| 58|     1|132602.88|            1|        1|             0|        5097.67|     1|\n|       18|        549|    Spain|Female| 24|     9|      0.0|            2|        1|             1|       14406.41|     0|\n|       19|        587|    Spain|  Male| 45|     6|      0.0|            1|        0|             0|      158684.81|     0|\n|       20|        726|   France|Female| 24|     6|      0.0|            2|        1|             1|       54724.03|     0|\n+---------+-----------+---------+------+---+------+---------+-------------+---------+--------------+---------------+------+\nonly showing top 20 rows\n\n"
     ]
    }
   ],
   "source": [
    "df.show()"
   ]
  },
  {
   "cell_type": "code",
   "execution_count": 0,
   "metadata": {
    "application/vnd.databricks.v1+cell": {
     "cellMetadata": {
      "byteLimit": 2048000,
      "rowLimit": 10000
     },
     "inputWidgets": {},
     "nuid": "9c905324-cde7-446a-8b08-e972d812507d",
     "showTitle": false,
     "title": ""
    }
   },
   "outputs": [],
   "source": [
    "df=df.drop('RowNumber')"
   ]
  },
  {
   "cell_type": "code",
   "execution_count": 0,
   "metadata": {
    "application/vnd.databricks.v1+cell": {
     "cellMetadata": {
      "byteLimit": 2048000,
      "rowLimit": 10000
     },
     "inputWidgets": {},
     "nuid": "0c8d225d-28e3-466a-a910-8ff71a9f8115",
     "showTitle": false,
     "title": ""
    }
   },
   "outputs": [
    {
     "output_type": "stream",
     "name": "stdout",
     "output_type": "stream",
     "text": [
      "+-----------+---------+------+---+------+---------+-------------+---------+--------------+---------------+------+\n|CreditScore|Geography|Gender|Age|Tenure|  Balance|NumOfProducts|HasCrCard|IsActiveMember|EstimatedSalary|Exited|\n+-----------+---------+------+---+------+---------+-------------+---------+--------------+---------------+------+\n|        619|   France|Female| 42|     2|      0.0|            1|        1|             1|      101348.88|     1|\n|        608|    Spain|Female| 41|     1| 83807.86|            1|        0|             1|      112542.58|     0|\n|        502|   France|Female| 42|     8| 159660.8|            3|        1|             0|      113931.57|     1|\n|        699|   France|Female| 39|     1|      0.0|            2|        0|             0|       93826.63|     0|\n|        850|    Spain|Female| 43|     2|125510.82|            1|        1|             1|        79084.1|     0|\n|        645|    Spain|  Male| 44|     8|113755.78|            2|        1|             0|      149756.71|     1|\n|        822|   France|  Male| 50|     7|      0.0|            2|        1|             1|        10062.8|     0|\n|        376|  Germany|Female| 29|     4|115046.74|            4|        1|             0|      119346.88|     1|\n|        501|   France|  Male| 44|     4|142051.07|            2|        0|             1|        74940.5|     0|\n|        684|   France|  Male| 27|     2|134603.88|            1|        1|             1|       71725.73|     0|\n|        528|   France|  Male| 31|     6|102016.72|            2|        0|             0|       80181.12|     0|\n|        497|    Spain|  Male| 24|     3|      0.0|            2|        1|             0|       76390.01|     0|\n|        476|   France|Female| 34|    10|      0.0|            2|        1|             0|       26260.98|     0|\n|        549|   France|Female| 25|     5|      0.0|            2|        0|             0|      190857.79|     0|\n|        635|    Spain|Female| 35|     7|      0.0|            2|        1|             1|       65951.65|     0|\n|        616|  Germany|  Male| 45|     3|143129.41|            2|        0|             1|       64327.26|     0|\n|        653|  Germany|  Male| 58|     1|132602.88|            1|        1|             0|        5097.67|     1|\n|        549|    Spain|Female| 24|     9|      0.0|            2|        1|             1|       14406.41|     0|\n|        587|    Spain|  Male| 45|     6|      0.0|            1|        0|             0|      158684.81|     0|\n|        726|   France|Female| 24|     6|      0.0|            2|        1|             1|       54724.03|     0|\n+-----------+---------+------+---+------+---------+-------------+---------+--------------+---------------+------+\nonly showing top 20 rows\n\n"
     ]
    }
   ],
   "source": [
    "df.show()"
   ]
  },
  {
   "cell_type": "code",
   "execution_count": 0,
   "metadata": {
    "application/vnd.databricks.v1+cell": {
     "cellMetadata": {
      "byteLimit": 2048000,
      "rowLimit": 10000
     },
     "inputWidgets": {},
     "nuid": "723755d6-c994-4072-97d3-2f68376a3e8b",
     "showTitle": false,
     "title": ""
    }
   },
   "outputs": [],
   "source": [
    "from pyspark.ml.feature import StringIndexer"
   ]
  },
  {
   "cell_type": "code",
   "execution_count": 0,
   "metadata": {
    "application/vnd.databricks.v1+cell": {
     "cellMetadata": {
      "byteLimit": 2048000,
      "rowLimit": 10000
     },
     "inputWidgets": {},
     "nuid": "57e62143-6d11-4d2c-b44b-63028b5c01cd",
     "showTitle": false,
     "title": ""
    }
   },
   "outputs": [],
   "source": [
    "string=StringIndexer(inputCols=['Geography','Gender'],\n",
    "outputCols=['geography','gender']\n",
    ")"
   ]
  },
  {
   "cell_type": "code",
   "execution_count": 0,
   "metadata": {
    "application/vnd.databricks.v1+cell": {
     "cellMetadata": {
      "byteLimit": 2048000,
      "rowLimit": 10000
     },
     "inputWidgets": {},
     "nuid": "7d867887-4a4d-4db1-928e-665cdd57b365",
     "showTitle": false,
     "title": ""
    }
   },
   "outputs": [],
   "source": [
    "df=string.fit(df).transform(df)"
   ]
  },
  {
   "cell_type": "code",
   "execution_count": 0,
   "metadata": {
    "application/vnd.databricks.v1+cell": {
     "cellMetadata": {
      "byteLimit": 2048000,
      "rowLimit": 10000
     },
     "inputWidgets": {},
     "nuid": "f9df331f-7eba-4bbf-9069-d4eb82d10812",
     "showTitle": false,
     "title": ""
    }
   },
   "outputs": [
    {
     "output_type": "stream",
     "name": "stdout",
     "output_type": "stream",
     "text": [
      "+-----------+---------+------+---+------+---------+-------------+---------+--------------+---------------+------+\n|CreditScore|geography|gender|Age|Tenure|  Balance|NumOfProducts|HasCrCard|IsActiveMember|EstimatedSalary|Exited|\n+-----------+---------+------+---+------+---------+-------------+---------+--------------+---------------+------+\n|        619|      0.0|   1.0| 42|     2|      0.0|            1|        1|             1|      101348.88|     1|\n|        608|      2.0|   1.0| 41|     1| 83807.86|            1|        0|             1|      112542.58|     0|\n|        502|      0.0|   1.0| 42|     8| 159660.8|            3|        1|             0|      113931.57|     1|\n|        699|      0.0|   1.0| 39|     1|      0.0|            2|        0|             0|       93826.63|     0|\n|        850|      2.0|   1.0| 43|     2|125510.82|            1|        1|             1|        79084.1|     0|\n|        645|      2.0|   0.0| 44|     8|113755.78|            2|        1|             0|      149756.71|     1|\n|        822|      0.0|   0.0| 50|     7|      0.0|            2|        1|             1|        10062.8|     0|\n|        376|      1.0|   1.0| 29|     4|115046.74|            4|        1|             0|      119346.88|     1|\n|        501|      0.0|   0.0| 44|     4|142051.07|            2|        0|             1|        74940.5|     0|\n|        684|      0.0|   0.0| 27|     2|134603.88|            1|        1|             1|       71725.73|     0|\n|        528|      0.0|   0.0| 31|     6|102016.72|            2|        0|             0|       80181.12|     0|\n|        497|      2.0|   0.0| 24|     3|      0.0|            2|        1|             0|       76390.01|     0|\n|        476|      0.0|   1.0| 34|    10|      0.0|            2|        1|             0|       26260.98|     0|\n|        549|      0.0|   1.0| 25|     5|      0.0|            2|        0|             0|      190857.79|     0|\n|        635|      2.0|   1.0| 35|     7|      0.0|            2|        1|             1|       65951.65|     0|\n|        616|      1.0|   0.0| 45|     3|143129.41|            2|        0|             1|       64327.26|     0|\n|        653|      1.0|   0.0| 58|     1|132602.88|            1|        1|             0|        5097.67|     1|\n|        549|      2.0|   1.0| 24|     9|      0.0|            2|        1|             1|       14406.41|     0|\n|        587|      2.0|   0.0| 45|     6|      0.0|            1|        0|             0|      158684.81|     0|\n|        726|      0.0|   1.0| 24|     6|      0.0|            2|        1|             1|       54724.03|     0|\n+-----------+---------+------+---+------+---------+-------------+---------+--------------+---------------+------+\nonly showing top 20 rows\n\n"
     ]
    }
   ],
   "source": [
    "df.show()"
   ]
  },
  {
   "cell_type": "code",
   "execution_count": 0,
   "metadata": {
    "application/vnd.databricks.v1+cell": {
     "cellMetadata": {
      "byteLimit": 2048000,
      "rowLimit": 10000
     },
     "inputWidgets": {},
     "nuid": "fc59665d-aa1e-4782-a869-b7d00bcb5aa2",
     "showTitle": false,
     "title": ""
    }
   },
   "outputs": [],
   "source": [
    "from pyspark.ml.feature import VectorAssembler"
   ]
  },
  {
   "cell_type": "code",
   "execution_count": 0,
   "metadata": {
    "application/vnd.databricks.v1+cell": {
     "cellMetadata": {
      "byteLimit": 2048000,
      "rowLimit": 10000
     },
     "inputWidgets": {},
     "nuid": "3955edd6-8241-4193-a0e7-f46c3ad1f0ac",
     "showTitle": false,
     "title": ""
    }
   },
   "outputs": [],
   "source": [
    "vector=VectorAssembler(inputCols=['CreditScore','geography','gender','Age','Tenure','Balance','NumOfProducts','HasCrCard','IsActiveMember','EstimatedSalary'],\n",
    "outputCol='independant_features'\n",
    "\n",
    "\n",
    ")"
   ]
  },
  {
   "cell_type": "code",
   "execution_count": 0,
   "metadata": {
    "application/vnd.databricks.v1+cell": {
     "cellMetadata": {
      "byteLimit": 2048000,
      "rowLimit": 10000
     },
     "inputWidgets": {},
     "nuid": "752e4a64-1d6c-464f-afa6-98965175f1f5",
     "showTitle": false,
     "title": ""
    }
   },
   "outputs": [],
   "source": [
    "df=vector.transform(df)"
   ]
  },
  {
   "cell_type": "code",
   "execution_count": 0,
   "metadata": {
    "application/vnd.databricks.v1+cell": {
     "cellMetadata": {
      "byteLimit": 2048000,
      "rowLimit": 10000
     },
     "inputWidgets": {},
     "nuid": "4649b025-40b8-4cb4-82df-9e6a55cfecac",
     "showTitle": false,
     "title": ""
    }
   },
   "outputs": [
    {
     "output_type": "stream",
     "name": "stdout",
     "output_type": "stream",
     "text": [
      "+-----------+---------+------+---+------+---------+-------------+---------+--------------+---------------+------+--------------------+\n|CreditScore|geography|gender|Age|Tenure|  Balance|NumOfProducts|HasCrCard|IsActiveMember|EstimatedSalary|Exited|independant_features|\n+-----------+---------+------+---+------+---------+-------------+---------+--------------+---------------+------+--------------------+\n|        619|      0.0|   1.0| 42|     2|      0.0|            1|        1|             1|      101348.88|     1|[619.0,0.0,1.0,42...|\n|        608|      2.0|   1.0| 41|     1| 83807.86|            1|        0|             1|      112542.58|     0|[608.0,2.0,1.0,41...|\n|        502|      0.0|   1.0| 42|     8| 159660.8|            3|        1|             0|      113931.57|     1|[502.0,0.0,1.0,42...|\n|        699|      0.0|   1.0| 39|     1|      0.0|            2|        0|             0|       93826.63|     0|[699.0,0.0,1.0,39...|\n|        850|      2.0|   1.0| 43|     2|125510.82|            1|        1|             1|        79084.1|     0|[850.0,2.0,1.0,43...|\n|        645|      2.0|   0.0| 44|     8|113755.78|            2|        1|             0|      149756.71|     1|[645.0,2.0,0.0,44...|\n|        822|      0.0|   0.0| 50|     7|      0.0|            2|        1|             1|        10062.8|     0|[822.0,0.0,0.0,50...|\n|        376|      1.0|   1.0| 29|     4|115046.74|            4|        1|             0|      119346.88|     1|[376.0,1.0,1.0,29...|\n|        501|      0.0|   0.0| 44|     4|142051.07|            2|        0|             1|        74940.5|     0|[501.0,0.0,0.0,44...|\n|        684|      0.0|   0.0| 27|     2|134603.88|            1|        1|             1|       71725.73|     0|[684.0,0.0,0.0,27...|\n|        528|      0.0|   0.0| 31|     6|102016.72|            2|        0|             0|       80181.12|     0|[528.0,0.0,0.0,31...|\n|        497|      2.0|   0.0| 24|     3|      0.0|            2|        1|             0|       76390.01|     0|[497.0,2.0,0.0,24...|\n|        476|      0.0|   1.0| 34|    10|      0.0|            2|        1|             0|       26260.98|     0|[476.0,0.0,1.0,34...|\n|        549|      0.0|   1.0| 25|     5|      0.0|            2|        0|             0|      190857.79|     0|[549.0,0.0,1.0,25...|\n|        635|      2.0|   1.0| 35|     7|      0.0|            2|        1|             1|       65951.65|     0|[635.0,2.0,1.0,35...|\n|        616|      1.0|   0.0| 45|     3|143129.41|            2|        0|             1|       64327.26|     0|[616.0,1.0,0.0,45...|\n|        653|      1.0|   0.0| 58|     1|132602.88|            1|        1|             0|        5097.67|     1|[653.0,1.0,0.0,58...|\n|        549|      2.0|   1.0| 24|     9|      0.0|            2|        1|             1|       14406.41|     0|[549.0,2.0,1.0,24...|\n|        587|      2.0|   0.0| 45|     6|      0.0|            1|        0|             0|      158684.81|     0|[587.0,2.0,0.0,45...|\n|        726|      0.0|   1.0| 24|     6|      0.0|            2|        1|             1|       54724.03|     0|[726.0,0.0,1.0,24...|\n+-----------+---------+------+---+------+---------+-------------+---------+--------------+---------------+------+--------------------+\nonly showing top 20 rows\n\n"
     ]
    }
   ],
   "source": [
    "df.show()"
   ]
  },
  {
   "cell_type": "code",
   "execution_count": 0,
   "metadata": {
    "application/vnd.databricks.v1+cell": {
     "cellMetadata": {
      "byteLimit": 2048000,
      "rowLimit": 10000
     },
     "inputWidgets": {},
     "nuid": "2980886e-026c-4c53-a950-44a41e8de965",
     "showTitle": false,
     "title": ""
    }
   },
   "outputs": [],
   "source": [
    "final_df=df.select('Exited','independant_features')"
   ]
  },
  {
   "cell_type": "code",
   "execution_count": 0,
   "metadata": {
    "application/vnd.databricks.v1+cell": {
     "cellMetadata": {
      "byteLimit": 2048000,
      "rowLimit": 10000
     },
     "inputWidgets": {},
     "nuid": "9bf376d0-f18c-4bbd-a80a-a32b22bc6309",
     "showTitle": false,
     "title": ""
    }
   },
   "outputs": [
    {
     "output_type": "stream",
     "name": "stdout",
     "output_type": "stream",
     "text": [
      "+------+--------------------+\n|Exited|independant_features|\n+------+--------------------+\n|     1|[619.0,0.0,1.0,42...|\n|     0|[608.0,2.0,1.0,41...|\n|     1|[502.0,0.0,1.0,42...|\n|     0|[699.0,0.0,1.0,39...|\n|     0|[850.0,2.0,1.0,43...|\n|     1|[645.0,2.0,0.0,44...|\n|     0|[822.0,0.0,0.0,50...|\n|     1|[376.0,1.0,1.0,29...|\n|     0|[501.0,0.0,0.0,44...|\n|     0|[684.0,0.0,0.0,27...|\n|     0|[528.0,0.0,0.0,31...|\n|     0|[497.0,2.0,0.0,24...|\n|     0|[476.0,0.0,1.0,34...|\n|     0|[549.0,0.0,1.0,25...|\n|     0|[635.0,2.0,1.0,35...|\n|     0|[616.0,1.0,0.0,45...|\n|     1|[653.0,1.0,0.0,58...|\n|     0|[549.0,2.0,1.0,24...|\n|     0|[587.0,2.0,0.0,45...|\n|     0|[726.0,0.0,1.0,24...|\n+------+--------------------+\nonly showing top 20 rows\n\n"
     ]
    }
   ],
   "source": [
    "final_df.show()"
   ]
  },
  {
   "cell_type": "code",
   "execution_count": 0,
   "metadata": {
    "application/vnd.databricks.v1+cell": {
     "cellMetadata": {
      "byteLimit": 2048000,
      "rowLimit": 10000
     },
     "inputWidgets": {},
     "nuid": "2be0192b-927d-4550-ab2a-8ce3b2f56946",
     "showTitle": false,
     "title": ""
    }
   },
   "outputs": [],
   "source": [
    "from pyspark.ml.classification import LogisticRegression"
   ]
  },
  {
   "cell_type": "code",
   "execution_count": 0,
   "metadata": {
    "application/vnd.databricks.v1+cell": {
     "cellMetadata": {
      "byteLimit": 2048000,
      "rowLimit": 10000
     },
     "inputWidgets": {},
     "nuid": "07bd4e5b-033f-4123-8320-071d594fc89d",
     "showTitle": false,
     "title": ""
    }
   },
   "outputs": [],
   "source": [
    "train_data,test_data=final_df.randomSplit([0.75,0.25])"
   ]
  },
  {
   "cell_type": "code",
   "execution_count": 0,
   "metadata": {
    "application/vnd.databricks.v1+cell": {
     "cellMetadata": {
      "byteLimit": 2048000,
      "rowLimit": 10000
     },
     "inputWidgets": {},
     "nuid": "b7f7469d-d263-4c05-812a-ad5953de8c8d",
     "showTitle": false,
     "title": ""
    }
   },
   "outputs": [
    {
     "output_type": "stream",
     "name": "stdout",
     "output_type": "stream",
     "text": [
      "+------+--------------------+\n|Exited|independant_features|\n+------+--------------------+\n|     0|(10,[0,1,3,6,9],[...|\n|     0|(10,[0,2,3,6,9],[...|\n|     0|(10,[0,2,3,6,9],[...|\n|     0|(10,[0,2,3,6,9],[...|\n|     0|(10,[0,3,4,6,9],[...|\n|     0|(10,[0,3,4,6,9],[...|\n|     0|(10,[0,3,4,6,9],[...|\n|     0|(10,[0,3,4,6,9],[...|\n|     0|(10,[0,3,4,6,9],[...|\n|     0|(10,[0,3,4,6,9],[...|\n|     0|(10,[0,3,4,6,9],[...|\n|     0|(10,[0,3,4,6,9],[...|\n|     0|(10,[0,3,4,6,9],[...|\n|     0|(10,[0,3,4,6,9],[...|\n|     0|(10,[0,3,4,6,9],[...|\n|     0|(10,[0,3,4,6,9],[...|\n|     0|(10,[0,3,4,6,9],[...|\n|     0|(10,[0,3,4,6,9],[...|\n|     0|(10,[0,3,4,6,9],[...|\n|     0|(10,[0,3,4,6,9],[...|\n+------+--------------------+\nonly showing top 20 rows\n\n"
     ]
    }
   ],
   "source": [
    "train_data.show()"
   ]
  },
  {
   "cell_type": "code",
   "execution_count": 0,
   "metadata": {
    "application/vnd.databricks.v1+cell": {
     "cellMetadata": {
      "byteLimit": 2048000,
      "rowLimit": 10000
     },
     "inputWidgets": {},
     "nuid": "a4c52c09-399d-4bf6-b7e6-cf3032d2b3fc",
     "showTitle": false,
     "title": ""
    }
   },
   "outputs": [
    {
     "output_type": "stream",
     "name": "stdout",
     "output_type": "stream",
     "text": [
      "+------+--------------------+\n|Exited|independant_features|\n+------+--------------------+\n|     0|(10,[0,1,3,6,9],[...|\n|     0|(10,[0,1,3,6,9],[...|\n|     0|(10,[0,2,3,6,9],[...|\n|     0|(10,[0,3,4,6,9],[...|\n|     0|(10,[0,3,4,6,9],[...|\n|     0|(10,[0,3,4,6,9],[...|\n|     0|(10,[0,3,4,6,9],[...|\n|     0|(10,[0,3,4,6,9],[...|\n|     0|(10,[0,3,4,6,9],[...|\n|     0|(10,[0,3,4,6,9],[...|\n|     0|(10,[0,3,4,6,9],[...|\n|     0|(10,[0,3,4,6,9],[...|\n|     0|(10,[0,3,4,6,9],[...|\n|     0|(10,[0,3,4,6,9],[...|\n|     0|(10,[0,3,4,6,9],[...|\n|     0|(10,[0,3,4,6,9],[...|\n|     0|(10,[0,3,4,6,9],[...|\n|     0|(10,[0,3,4,6,9],[...|\n|     0|(10,[0,3,4,6,9],[...|\n|     0|(10,[0,3,4,6,9],[...|\n+------+--------------------+\nonly showing top 20 rows\n\n"
     ]
    }
   ],
   "source": [
    "test_data.show()"
   ]
  },
  {
   "cell_type": "code",
   "execution_count": 0,
   "metadata": {
    "application/vnd.databricks.v1+cell": {
     "cellMetadata": {
      "byteLimit": 2048000,
      "rowLimit": 10000
     },
     "inputWidgets": {},
     "nuid": "d4982733-b8fe-4679-8054-45173596ff72",
     "showTitle": false,
     "title": ""
    }
   },
   "outputs": [],
   "source": [
    "classifier=LogisticRegression(featuresCol='independant_features',\n",
    "                              labelCol='Exited'\n",
    "\n",
    ")"
   ]
  },
  {
   "cell_type": "code",
   "execution_count": 0,
   "metadata": {
    "application/vnd.databricks.v1+cell": {
     "cellMetadata": {
      "byteLimit": 2048000,
      "rowLimit": 10000
     },
     "inputWidgets": {},
     "nuid": "c16ebab9-0099-44ea-9a9c-c20e5423ef0d",
     "showTitle": false,
     "title": ""
    }
   },
   "outputs": [],
   "source": [
    "classifier=classifier.fit(train_data)"
   ]
  },
  {
   "cell_type": "code",
   "execution_count": 0,
   "metadata": {
    "application/vnd.databricks.v1+cell": {
     "cellMetadata": {
      "byteLimit": 2048000,
      "rowLimit": 10000
     },
     "inputWidgets": {},
     "nuid": "73ce9ed0-c176-4985-9f6a-77f31967acd4",
     "showTitle": false,
     "title": ""
    }
   },
   "outputs": [
    {
     "output_type": "stream",
     "name": "stdout",
     "output_type": "stream",
     "text": [
      "Out[39]: DenseVector([-0.0005, 0.0726, 0.5863, 0.0691, -0.022, 0.0, -0.0467, -0.0787, -1.0161, 0.0])"
     ]
    }
   ],
   "source": [
    "classifier.coefficients"
   ]
  },
  {
   "cell_type": "code",
   "execution_count": 0,
   "metadata": {
    "application/vnd.databricks.v1+cell": {
     "cellMetadata": {
      "byteLimit": 2048000,
      "rowLimit": 10000
     },
     "inputWidgets": {},
     "nuid": "b13f0643-031b-4d97-a5a5-b39e6db644b1",
     "showTitle": false,
     "title": ""
    }
   },
   "outputs": [
    {
     "output_type": "stream",
     "name": "stdout",
     "output_type": "stream",
     "text": [
      "Out[40]: -3.9417546066237583"
     ]
    }
   ],
   "source": [
    "classifier.intercept"
   ]
  },
  {
   "cell_type": "code",
   "execution_count": 0,
   "metadata": {
    "application/vnd.databricks.v1+cell": {
     "cellMetadata": {
      "byteLimit": 2048000,
      "rowLimit": 10000
     },
     "inputWidgets": {},
     "nuid": "96724ec5-9812-4ea0-863a-583236e2cce6",
     "showTitle": false,
     "title": ""
    }
   },
   "outputs": [],
   "source": [
    "prediction=classifier.evaluate(test_data)"
   ]
  },
  {
   "cell_type": "code",
   "execution_count": 0,
   "metadata": {
    "application/vnd.databricks.v1+cell": {
     "cellMetadata": {
      "byteLimit": 2048000,
      "rowLimit": 10000
     },
     "inputWidgets": {},
     "nuid": "f5486263-7e86-4003-82bd-9849271d9fdb",
     "showTitle": false,
     "title": ""
    }
   },
   "outputs": [
    {
     "output_type": "stream",
     "name": "stdout",
     "output_type": "stream",
     "text": [
      "+------+--------------------+--------------------+--------------------+----------+\n|Exited|independant_features|       rawPrediction|         probability|prediction|\n+------+--------------------+--------------------+--------------------+----------+\n|     0|(10,[0,1,3,6,9],[...|[1.75537260705270...|[0.85262916417010...|       0.0|\n|     0|(10,[0,1,3,6,9],[...|[1.71835269158594...|[0.84791653091568...|       0.0|\n|     0|(10,[0,2,3,6,9],[...|[0.38730143294085...|[0.59563290577674...|       0.0|\n|     0|(10,[0,3,4,6,9],[...|[2.32487691912882...|[0.91091648504705...|       0.0|\n|     0|(10,[0,3,4,6,9],[...|[2.88260492535870...|[0.94697980682505...|       0.0|\n|     0|(10,[0,3,4,6,9],[...|[1.23474927547923...|[0.77464872743157...|       0.0|\n|     0|(10,[0,3,4,6,9],[...|[2.19904822740750...|[0.90016400882308...|       0.0|\n|     0|(10,[0,3,4,6,9],[...|[2.06528056755002...|[0.88748255290511...|       0.0|\n|     0|(10,[0,3,4,6,9],[...|[1.95997460076782...|[0.87653020362901...|       0.0|\n|     0|(10,[0,3,4,6,9],[...|[2.01870340693278...|[0.88274687206330...|       0.0|\n|     0|(10,[0,3,4,6,9],[...|[1.82626368066696...|[0.86131602296504...|       0.0|\n|     0|(10,[0,3,4,6,9],[...|[1.32150964246542...|[0.78943276203941...|       0.0|\n|     0|(10,[0,3,4,6,9],[...|[2.43511364983928...|[0.91946600285828...|       0.0|\n|     0|(10,[0,3,4,6,9],[...|[2.01487993861262...|[0.88235054510726...|       0.0|\n|     0|(10,[0,3,4,6,9],[...|[1.69973548863380...|[0.84550018505432...|       0.0|\n|     0|(10,[0,3,4,6,9],[...|[0.88777107423728...|[0.70842998646089...|       0.0|\n|     0|(10,[0,3,4,6,9],[...|[1.29137516255665...|[0.78437985875537...|       0.0|\n|     0|(10,[0,3,4,6,9],[...|[0.17244838267051...|[0.54300557188555...|       0.0|\n|     0|(10,[0,3,4,6,9],[...|[1.44607846387067...|[0.80939417195798...|       0.0|\n|     0|(10,[0,3,4,6,9],[...|[2.80792801889427...|[0.94310273878470...|       0.0|\n+------+--------------------+--------------------+--------------------+----------+\nonly showing top 20 rows\n\n"
     ]
    }
   ],
   "source": [
    "prediction.predictions.show()"
   ]
  },
  {
   "cell_type": "code",
   "execution_count": 0,
   "metadata": {
    "application/vnd.databricks.v1+cell": {
     "cellMetadata": {
      "byteLimit": 2048000,
      "rowLimit": 10000
     },
     "inputWidgets": {},
     "nuid": "9bed2077-5d63-45d9-9ebf-92bf623af606",
     "showTitle": false,
     "title": ""
    }
   },
   "outputs": [
    {
     "output_type": "stream",
     "name": "stdout",
     "output_type": "stream",
     "text": [
      "Out[43]: 0.8259075907590759"
     ]
    }
   ],
   "source": [
    "prediction.accuracy"
   ]
  },
  {
   "cell_type": "code",
   "execution_count": 0,
   "metadata": {
    "application/vnd.databricks.v1+cell": {
     "cellMetadata": {},
     "inputWidgets": {},
     "nuid": "19d34718-e78a-418d-942c-4f554a3747a7",
     "showTitle": false,
     "title": ""
    }
   },
   "outputs": [],
   "source": []
  }
 ],
 "metadata": {
  "application/vnd.databricks.v1+notebook": {
   "dashboards": [],
   "language": "python",
   "notebookMetadata": {
    "pythonIndentUnit": 4
   },
   "notebookName": "logistic regression through pyspark",
   "widgets": {}
  }
 },
 "nbformat": 4,
 "nbformat_minor": 0
}
